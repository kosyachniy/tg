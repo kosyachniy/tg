{
 "cells": [
  {
   "cell_type": "code",
   "execution_count": 1,
   "metadata": {},
   "outputs": [
    {
     "ename": "NameError",
     "evalue": "name 'CountVectorizer' is not defined",
     "output_type": "error",
     "traceback": [
      "\u001b[0;31m---------------------------------------------------------------------------\u001b[0m",
      "\u001b[0;31mNameError\u001b[0m                                 Traceback (most recent call last)",
      "\u001b[0;32m<ipython-input-1-fec606b32a04>\u001b[0m in \u001b[0;36m<module>\u001b[0;34m()\u001b[0m\n\u001b[0;32m----> 1\u001b[0;31m count_vect = CountVectorizer(input='data/history/mono.txt',\n\u001b[0m\u001b[1;32m      2\u001b[0m                              \u001b[0mstop_words\u001b[0m\u001b[0;34m=\u001b[0m\u001b[0mstopwords\u001b[0m\u001b[0;34m,\u001b[0m\u001b[0;34m\u001b[0m\u001b[0;34m\u001b[0m\u001b[0m\n\u001b[1;32m      3\u001b[0m                              vocabulary=voc)\n\u001b[1;32m      4\u001b[0m \u001b[0;34m\u001b[0m\u001b[0m\n\u001b[1;32m      5\u001b[0m \u001b[0mdataset\u001b[0m \u001b[0;34m=\u001b[0m \u001b[0mcount_vect\u001b[0m\u001b[0;34m.\u001b[0m\u001b[0mfit_transform\u001b[0m\u001b[0;34m(\u001b[0m\u001b[0mtrain_names\u001b[0m\u001b[0;34m)\u001b[0m\u001b[0;34m\u001b[0m\u001b[0;34m\u001b[0m\u001b[0m\n",
      "\u001b[0;31mNameError\u001b[0m: name 'CountVectorizer' is not defined"
     ]
    }
   ],
   "source": [
    "count_vect = CountVectorizer(input='data/history/mono.txt',\n",
    "                             stop_words=stopwords,\n",
    "                             vocabulary=voc)\n",
    "\n",
    "dataset = count_vect.fit_transform(train_names)"
   ]
  },
  {
   "cell_type": "code",
   "execution_count": null,
   "metadata": {},
   "outputs": [],
   "source": [
    "#'training' (tf-)idf vectorizer.\n",
    "tf_idf = TfidfVectorizer(input='data/history/mono.txt',\n",
    "                             stop_words=stopwords,\n",
    "                             smooth_idf=False\n",
    "                         )\n",
    "tf_idf.fit(train_names)\n",
    "#getting idfs\n",
    "idfs = tf_idf.idf_\n",
    "#sorting out too rare and too common words\n",
    "lower_thresh = 3.\n",
    "upper_thresh = 6.\n",
    "not_often = idfs > lower_thresh\n",
    "not_rare = idfs < upper_thresh\n",
    "\n",
    "mask = not_often * not_rare\n",
    "\n",
    "good_words = np.array(tf_idf.get_feature_names())[mask]\n",
    "#deleting punctuation as well.\n",
    "cleaned = []\n",
    "for word in good_words:\n",
    "    word = re.sub(\"^(\\d+\\w*$|_+)\", \"\", word)\n",
    "\n",
    "    if len(word) == 0:\n",
    "        continue\n",
    "    cleaned.append(word)"
   ]
  }
 ],
 "metadata": {
  "kernelspec": {
   "display_name": "Python 3",
   "language": "python",
   "name": "python3"
  },
  "language_info": {
   "codemirror_mode": {
    "name": "ipython",
    "version": 3
   },
   "file_extension": ".py",
   "mimetype": "text/x-python",
   "name": "python",
   "nbconvert_exporter": "python",
   "pygments_lexer": "ipython3",
   "version": "3.7.5"
  }
 },
 "nbformat": 4,
 "nbformat_minor": 2
}
